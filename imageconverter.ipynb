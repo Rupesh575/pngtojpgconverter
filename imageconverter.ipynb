{
 "cells": [
  {
   "cell_type": "code",
   "execution_count": 2,
   "id": "b125e4b5",
   "metadata": {},
   "outputs": [
    {
     "name": "stdout",
     "output_type": "stream",
     "text": [
      "Requirement already satisfied: pillow in e:\\anaconda\\lib\\site-packages (8.2.0)\n",
      "Note: you may need to restart the kernel to use updated packages.\n"
     ]
    }
   ],
   "source": [
    "pip install pillow"
   ]
  },
  {
   "cell_type": "code",
   "execution_count": 9,
   "id": "68380027",
   "metadata": {},
   "outputs": [],
   "source": [
    "from PIL import Image\n",
    "image1 = Image.open('C:\\\\Users\\\\DELL\\\\Pictures\\\\Camera Roll\\\\subbu.jpg')\n",
    "image1.save('C:\\\\Users\\\\DELL\\\\Pictures\\\\Camera Roll\\\\image1.png')"
   ]
  },
  {
   "cell_type": "code",
   "execution_count": 1,
   "id": "6c5c86e5",
   "metadata": {},
   "outputs": [],
   "source": [
    "from PIL import Image\n",
    "image=Image.open('C:\\\\Users\\\\DELL\\\\Pictures\\\\Camera Roll\\\\image.png')\n",
    "rgb=image.convert('RGB')\n",
    "rgb.save('C:\\\\Users\\\\DELL\\\\Pictures\\\\Camera Roll\\\\image2.jpg')"
   ]
  }
 ],
 "metadata": {
  "kernelspec": {
   "display_name": "Python 3",
   "language": "python",
   "name": "python3"
  },
  "language_info": {
   "codemirror_mode": {
    "name": "ipython",
    "version": 3
   },
   "file_extension": ".py",
   "mimetype": "text/x-python",
   "name": "python",
   "nbconvert_exporter": "python",
   "pygments_lexer": "ipython3",
   "version": "3.8.8"
  }
 },
 "nbformat": 4,
 "nbformat_minor": 5
}
